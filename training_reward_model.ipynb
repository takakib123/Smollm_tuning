{
 "cells": [
  {
   "cell_type": "code",
   "execution_count": 1,
   "id": "20505649",
   "metadata": {},
   "outputs": [
    {
     "name": "stderr",
     "output_type": "stream",
     "text": [
      "2025-05-19 10:33:37.831960: E external/local_xla/xla/stream_executor/cuda/cuda_fft.cc:477] Unable to register cuFFT factory: Attempting to register factory for plugin cuFFT when one has already been registered\n",
      "WARNING: All log messages before absl::InitializeLog() is called are written to STDERR\n",
      "E0000 00:00:1747650818.054148      35 cuda_dnn.cc:8310] Unable to register cuDNN factory: Attempting to register factory for plugin cuDNN when one has already been registered\n",
      "E0000 00:00:1747650818.117318      35 cuda_blas.cc:1418] Unable to register cuBLAS factory: Attempting to register factory for plugin cuBLAS when one has already been registered\n"
     ]
    }
   ],
   "source": [
    "from transformers import pipeline"
   ]
  },
  {
   "cell_type": "code",
   "execution_count": 2,
   "id": "8342a72d",
   "metadata": {},
   "outputs": [
    {
     "name": "stdout",
     "output_type": "stream",
     "text": [
      "\u001b[2mUsing Python 3.11.11 environment at: /usr\u001b[0m\n",
      "\u001b[2K\u001b[2mResolved \u001b[1m73 packages\u001b[0m \u001b[2min 327ms\u001b[0m\u001b[0m                                        \u001b[0m\n",
      "\u001b[2mUninstalled \u001b[1m8 packages\u001b[0m \u001b[2min 29ms\u001b[0m\u001b[0m\n",
      "\u001b[2K\u001b[2mInstalled \u001b[1m8 packages\u001b[0m \u001b[2min 16.43s\u001b[0m\u001b[0m0.70                          \u001b[0m\n",
      " \u001b[31m-\u001b[39m \u001b[1mfsspec\u001b[0m\u001b[2m==2025.3.2\u001b[0m\n",
      " \u001b[32m+\u001b[39m \u001b[1mfsspec\u001b[0m\u001b[2m==2025.3.0\u001b[0m\n",
      " \u001b[31m-\u001b[39m \u001b[1mnvidia-cublas-cu12\u001b[0m\u001b[2m==12.9.0.13\u001b[0m\n",
      " \u001b[32m+\u001b[39m \u001b[1mnvidia-cublas-cu12\u001b[0m\u001b[2m==12.4.5.8\u001b[0m\n",
      " \u001b[31m-\u001b[39m \u001b[1mnvidia-cudnn-cu12\u001b[0m\u001b[2m==9.3.0.75\u001b[0m\n",
      " \u001b[32m+\u001b[39m \u001b[1mnvidia-cudnn-cu12\u001b[0m\u001b[2m==9.1.0.70\u001b[0m\n",
      " \u001b[31m-\u001b[39m \u001b[1mnvidia-cufft-cu12\u001b[0m\u001b[2m==11.4.0.6\u001b[0m\n",
      " \u001b[32m+\u001b[39m \u001b[1mnvidia-cufft-cu12\u001b[0m\u001b[2m==11.2.1.3\u001b[0m\n",
      " \u001b[31m-\u001b[39m \u001b[1mnvidia-curand-cu12\u001b[0m\u001b[2m==10.3.10.19\u001b[0m\n",
      " \u001b[32m+\u001b[39m \u001b[1mnvidia-curand-cu12\u001b[0m\u001b[2m==10.3.5.147\u001b[0m\n",
      " \u001b[31m-\u001b[39m \u001b[1mnvidia-cusolver-cu12\u001b[0m\u001b[2m==11.7.4.40\u001b[0m\n",
      " \u001b[32m+\u001b[39m \u001b[1mnvidia-cusolver-cu12\u001b[0m\u001b[2m==11.6.1.9\u001b[0m\n",
      " \u001b[31m-\u001b[39m \u001b[1mnvidia-cusparse-cu12\u001b[0m\u001b[2m==12.5.9.5\u001b[0m\n",
      " \u001b[32m+\u001b[39m \u001b[1mnvidia-cusparse-cu12\u001b[0m\u001b[2m==12.3.1.170\u001b[0m\n",
      " \u001b[31m-\u001b[39m \u001b[1mnvidia-nvjitlink-cu12\u001b[0m\u001b[2m==12.9.41\u001b[0m\n",
      " \u001b[32m+\u001b[39m \u001b[1mnvidia-nvjitlink-cu12\u001b[0m\u001b[2m==12.4.127\u001b[0m\n"
     ]
    }
   ],
   "source": [
    "!uv pip install transformers datasets torch accelerate tqdm scikit-learn"
   ]
  },
  {
   "cell_type": "code",
   "execution_count": 4,
   "id": "c654e361",
   "metadata": {},
   "outputs": [],
   "source": [
    "from torch.optim import AdamW"
   ]
  },
  {
   "cell_type": "code",
   "execution_count": 5,
   "id": "fd58fb20",
   "metadata": {},
   "outputs": [],
   "source": [
    "import torch\n",
    "from torch.utils.data import DataLoader, Dataset\n",
    "from transformers import (\n",
    "    GPT2Tokenizer,\n",
    "    GPT2ForSequenceClassification,\n",
    "    get_scheduler\n",
    ")"
   ]
  },
  {
   "cell_type": "code",
   "execution_count": 6,
   "id": "23a0e91c",
   "metadata": {},
   "outputs": [],
   "source": [
    "from datasets import load_dataset\n",
    "from tqdm.auto import tqdm\n",
    "import numpy as np\n",
    "from sklearn.model_selection import train_test_split\n",
    "import random\n",
    "import os"
   ]
  },
  {
   "cell_type": "code",
   "execution_count": 14,
   "id": "c4ba5e54",
   "metadata": {},
   "outputs": [],
   "source": [
    "import matplotlib.pyplot as plt"
   ]
  },
  {
   "cell_type": "code",
   "execution_count": 60,
   "id": "ffc874db",
   "metadata": {},
   "outputs": [],
   "source": [
    "# --- Configuration ---\n",
    "MODEL_NAME = \"gpt2\"  # You can try \"gpt2-medium\" for better performance\n",
    "BATCH_SIZE = 8       # Adjust based on your GPU memory\n",
    "LEARNING_RATE = 5e-6 # Learning rates for RMs are often smaller\n",
    "NUM_EPOCHS = 5      # Start with 1 epoch for quick iteration\n",
    "MAX_LENGTH = 512     # Max sequence length for GPT-2\n",
    "DEVICE = torch.device(\"cuda\" if torch.cuda.is_available() else \"cpu\")\n",
    "SEED = 42"
   ]
  },
  {
   "cell_type": "code",
   "execution_count": 56,
   "id": "fc36bb85",
   "metadata": {},
   "outputs": [],
   "source": [
    "TRAIN_SUBSET_SIZE = 50 # Number of pairs for training\n",
    "EVAL_SUBSET_SIZE = 400   # Number of pairs for evaluation\n",
    "OUTPUT_DIR = \"./gpt2_reward_model_script_output\"\n",
    "PLOTS_DIR = os.path.join(OUTPUT_DIR, \"plots\")\n"
   ]
  },
  {
   "cell_type": "code",
   "execution_count": 19,
   "id": "424ccc9a",
   "metadata": {},
   "outputs": [],
   "source": [
    "import glob"
   ]
  },
  {
   "cell_type": "code",
   "execution_count": 42,
   "id": "6b520ef7",
   "metadata": {},
   "outputs": [],
   "source": [
    "os.path.exists(PLOTS_DIR) or os.makedirs(PLOTS_DIR)"
   ]
  },
  {
   "cell_type": "code",
   "execution_count": 43,
   "id": "12e1794f",
   "metadata": {},
   "outputs": [
    {
     "data": {
      "text/plain": [
       "['./gpt2_reward_model_script_output/special_tokens_map.json',\n",
       " './gpt2_reward_model_script_output/tokenizer_config.json',\n",
       " './gpt2_reward_model_script_output/merges.txt',\n",
       " './gpt2_reward_model_script_output/plots',\n",
       " './gpt2_reward_model_script_output/model.safetensors',\n",
       " './gpt2_reward_model_script_output/config.json',\n",
       " './gpt2_reward_model_script_output/vocab.json']"
      ]
     },
     "execution_count": 43,
     "metadata": {},
     "output_type": "execute_result"
    }
   ],
   "source": [
    "glob.glob('./*/*')"
   ]
  },
  {
   "cell_type": "code",
   "execution_count": 9,
   "id": "427b8a58",
   "metadata": {},
   "outputs": [],
   "source": [
    "def set_seed(seed_value):\n",
    "    \"\"\"Sets the seed for reproducibility.\"\"\"\n",
    "    random.seed(seed_value)\n",
    "    np.random.seed(seed_value)\n",
    "    torch.manual_seed(seed_value)\n",
    "    if torch.cuda.is_available():\n",
    "        torch.cuda.manual_seed_all(seed_value)"
   ]
  },
  {
   "cell_type": "code",
   "execution_count": 55,
   "id": "38e382c8",
   "metadata": {},
   "outputs": [],
   "source": [
    "def plot_cum_loss(cum_loss, output_dir):\n",
    "    \"\"\"Plot cumulative loss over iterations. cum_loss is a list of cumulative loss values.\"\"\"\n",
    "    plt.figure(figsize=(10, 5))\n",
    "    plt.subplot(1, 1, 1)\n",
    "    plt.plot(cum_loss)\n",
    "    plt.title(\"Cumulative Loss Over Iterations\")\n",
    "    plt.xlabel(\"Iterations\")\n",
    "    plt.ylabel(\"Cumulative Loss\")\n",
    "    plt.grid()\n",
    "    plt.savefig(os.path.join(output_dir, \"cumulative_loss.png\"))\n",
    "    plt.close()\n",
    "    plt.show()"
   ]
  },
  {
   "cell_type": "code",
   "execution_count": 44,
   "id": "3564711e",
   "metadata": {},
   "outputs": [],
   "source": [
    "def plot_metrics(train_losses, train_accuracies, output_dir):\n",
    "    \"\"\"Plots training loss and accuracy over epochs.\"\"\"\n",
    "    epochs = range(1, len(train_losses) + 1)\n",
    "\n",
    "    plt.figure(figsize=(12, 5))\n",
    "\n",
    "    plt.subplot(1, 2, 1)\n",
    "    plt.plot(epochs, train_losses, 'bo-', label='Training Loss')\n",
    "    plt.title('Training Loss per Epoch')\n",
    "    plt.xlabel('Epoch')\n",
    "    plt.ylabel('Loss')\n",
    "    plt.legend()\n",
    "\n",
    "    plt.subplot(1, 2, 2)\n",
    "    plt.plot(epochs, train_accuracies, 'ro-', label='Training Accuracy')\n",
    "    plt.title('Training Accuracy per Epoch')\n",
    "    plt.xlabel('Epoch')\n",
    "    plt.ylabel('Accuracy')\n",
    "    plt.legend()\n",
    "\n",
    "    plt.savefig(os.path.join(output_dir, \"training_metrics.png\"))\n",
    "    print(f\"Training metrics plot saved to {os.path.join(output_dir, 'training_metrics.png')}\")\n",
    "    # plt.show() # Uncomment if you want to display the plot immediately"
   ]
  },
  {
   "cell_type": "code",
   "execution_count": 45,
   "id": "74e76c3e",
   "metadata": {},
   "outputs": [],
   "source": [
    "class PreferenceDataset(Dataset):\n",
    "    \"\"\"\n",
    "    Dataset class for preference pairs (chosen, rejected).\n",
    "    \"\"\"\n",
    "    def __init__(self, data, tokenizer, max_length):\n",
    "        self.data = data\n",
    "        self.tokenizer = tokenizer\n",
    "        self.max_length = max_length\n",
    "\n",
    "    def __len__(self):\n",
    "        return len(self.data)\n",
    "\n",
    "    def __getitem__(self, idx):\n",
    "        pair = self.data[idx]\n",
    "        chosen_text = pair['chosen']\n",
    "        rejected_text = pair['rejected']\n",
    "\n",
    "        chosen_encodings = self.tokenizer(\n",
    "            chosen_text,\n",
    "            truncation=True,\n",
    "            max_length=self.max_length,\n",
    "            padding=\"max_length\",\n",
    "            return_tensors=\"pt\"\n",
    "        )\n",
    "        rejected_encodings = self.tokenizer(\n",
    "            rejected_text,\n",
    "            truncation=True,\n",
    "            max_length=self.max_length,\n",
    "            padding=\"max_length\",\n",
    "            return_tensors=\"pt\"\n",
    "        )\n",
    "\n",
    "        return {\n",
    "            \"chosen_input_ids\": chosen_encodings['input_ids'].squeeze(0),\n",
    "            \"chosen_attention_mask\": chosen_encodings['attention_mask'].squeeze(0),\n",
    "            \"rejected_input_ids\": rejected_encodings['input_ids'].squeeze(0),\n",
    "            \"rejected_attention_mask\": rejected_encodings['attention_mask'].squeeze(0),\n",
    "        }"
   ]
  },
  {
   "cell_type": "code",
   "execution_count": 49,
   "id": "bb6fa87f",
   "metadata": {},
   "outputs": [],
   "source": [
    "def train_epoch(model, dataloader, optimizer, scheduler, device, epoch_num):\n",
    "    \"\"\"Trains the model for one epoch.\"\"\"\n",
    "    model.train()\n",
    "    total_loss = 0\n",
    "    total_accuracy = 0\n",
    "    num_batches = 0\n",
    "    cum_loss = []\n",
    "\n",
    "    progress_bar = tqdm(dataloader, desc=f\"Epoch {epoch_num} Training\")\n",
    "\n",
    "    for batch_idx, batch in enumerate(progress_bar):\n",
    "        chosen_input_ids = batch[\"chosen_input_ids\"].to(device)\n",
    "        chosen_attention_mask = batch[\"chosen_attention_mask\"].to(device)\n",
    "        rejected_input_ids = batch[\"rejected_input_ids\"].to(device)\n",
    "        rejected_attention_mask = batch[\"rejected_attention_mask\"].to(device)\n",
    "\n",
    "        rewards_chosen = model(input_ids=chosen_input_ids, attention_mask=chosen_attention_mask).logits\n",
    "        rewards_rejected = model(input_ids=rejected_input_ids, attention_mask=rejected_attention_mask).logits\n",
    "\n",
    "        loss = -torch.nn.functional.logsigmoid(rewards_chosen - rewards_rejected).mean()\n",
    "        cum_loss.append(loss.item())\n",
    "\n",
    "        loss.backward()\n",
    "        optimizer.step()\n",
    "        scheduler.step()\n",
    "        optimizer.zero_grad()\n",
    "\n",
    "        total_loss += loss.item()\n",
    "        accuracy = (rewards_chosen > rewards_rejected).float().mean().item()\n",
    "        total_accuracy += accuracy\n",
    "        num_batches += 1\n",
    "\n",
    "        progress_bar.set_postfix({\"Loss\": loss.item(), \"Acc\": accuracy})\n",
    "\n",
    "    avg_epoch_loss = total_loss / num_batches\n",
    "    avg_epoch_accuracy = total_accuracy / num_batches\n",
    "    print(f\"Epoch {epoch_num} finished. Average Training Loss: {avg_epoch_loss:.4f}, Average Training Accuracy: {avg_epoch_accuracy:.4f}\")\n",
    "    return avg_epoch_loss, avg_epoch_accuracy, cum_loss"
   ]
  },
  {
   "cell_type": "code",
   "execution_count": 47,
   "id": "cf016e46",
   "metadata": {},
   "outputs": [],
   "source": [
    "def evaluate_model(model, dataloader, device):\n",
    "    \"\"\"Evaluates the model.\"\"\"\n",
    "    model.eval()\n",
    "    total_eval_accuracy = 0\n",
    "    total_eval_loss = 0\n",
    "    num_batches = 0\n",
    "\n",
    "    with torch.no_grad():\n",
    "        for batch in tqdm(dataloader, desc=\"Evaluating\"):\n",
    "            chosen_input_ids = batch[\"chosen_input_ids\"].to(device)\n",
    "            chosen_attention_mask = batch[\"chosen_attention_mask\"].to(device)\n",
    "            rejected_input_ids = batch[\"rejected_input_ids\"].to(device)\n",
    "            rejected_attention_mask = batch[\"rejected_attention_mask\"].to(device)\n",
    "\n",
    "            rewards_chosen = model(input_ids=chosen_input_ids, attention_mask=chosen_attention_mask).logits\n",
    "            rewards_rejected = model(input_ids=rejected_input_ids, attention_mask=rejected_attention_mask).logits\n",
    "\n",
    "            loss = -torch.nn.functional.logsigmoid(rewards_chosen - rewards_rejected).mean()\n",
    "            total_eval_loss += loss.item()\n",
    "\n",
    "            accuracy = (rewards_chosen > rewards_rejected).float().mean().item()\n",
    "            total_eval_accuracy += accuracy\n",
    "            num_batches +=1\n",
    "\n",
    "    avg_eval_loss = total_eval_loss / num_batches\n",
    "    avg_eval_accuracy = total_eval_accuracy / num_batches\n",
    "\n",
    "    print(f\"\\nEvaluation Results:\")\n",
    "    print(f\"  Average Loss: {avg_eval_loss:.4f}\")\n",
    "    print(f\"  Average Accuracy: {avg_eval_accuracy:.4f}\")\n",
    "    return avg_eval_loss, avg_eval_accuracy"
   ]
  },
  {
   "cell_type": "code",
   "execution_count": 61,
   "id": "5583d04f",
   "metadata": {},
   "outputs": [
    {
     "name": "stdout",
     "output_type": "stream",
     "text": [
      "Using device: cuda\n",
      "Loading Anthropic HH-RLHF dataset...\n",
      "Using 50 samples for training and 400 for evaluation.\n",
      "\n",
      "Example training data point:\n",
      "  Chosen: \n",
      "\n",
      "Human: I like to host guests at my home from time to time, and I am gathering  recipes of differen...\n",
      "  Rejected: \n",
      "\n",
      "Human: I like to host guests at my home from time to time, and I am gathering  recipes of differen...\n",
      "\n",
      "Loading tokenizer: gpt2\n",
      "Set tokenizer.pad_token to tokenizer.eos_token\n",
      "\n",
      "Loading model: gpt2 for sequence classification\n"
     ]
    },
    {
     "name": "stderr",
     "output_type": "stream",
     "text": [
      "Some weights of GPT2ForSequenceClassification were not initialized from the model checkpoint at gpt2 and are newly initialized: ['score.weight']\n",
      "You should probably TRAIN this model on a down-stream task to be able to use it for predictions and inference.\n"
     ]
    },
    {
     "name": "stdout",
     "output_type": "stream",
     "text": [
      "\n",
      "Starting training...\n"
     ]
    },
    {
     "data": {
      "application/vnd.jupyter.widget-view+json": {
       "model_id": "ab2779285fb64bea897980c8a532ea78",
       "version_major": 2,
       "version_minor": 0
      },
      "text/plain": [
       "Epoch 1 Training:   0%|          | 0/7 [00:00<?, ?it/s]"
      ]
     },
     "metadata": {},
     "output_type": "display_data"
    },
    {
     "name": "stdout",
     "output_type": "stream",
     "text": [
      "Epoch 1 finished. Average Training Loss: 1.2650, Average Training Accuracy: 0.4821\n",
      "[1.7830426692962646, 1.2926130294799805, 0.5297375917434692, 1.1696436405181885, 1.217569351196289, 1.1620503664016724, 1.7004621028900146]\n"
     ]
    },
    {
     "data": {
      "application/vnd.jupyter.widget-view+json": {
       "model_id": "8fb023f6941c4c4894b22db2a393083f",
       "version_major": 2,
       "version_minor": 0
      },
      "text/plain": [
       "Epoch 2 Training:   0%|          | 0/7 [00:00<?, ?it/s]"
      ]
     },
     "metadata": {},
     "output_type": "display_data"
    },
    {
     "name": "stdout",
     "output_type": "stream",
     "text": [
      "Epoch 2 finished. Average Training Loss: 0.9122, Average Training Accuracy: 0.5000\n",
      "[1.1495373249053955, 0.5447102189064026, 1.1760194301605225, 0.6368247270584106, 1.1959595680236816, 0.9808136820793152, 0.701212465763092]\n"
     ]
    },
    {
     "data": {
      "application/vnd.jupyter.widget-view+json": {
       "model_id": "a938305eb68a4d6ea34eb46806ca04bf",
       "version_major": 2,
       "version_minor": 0
      },
      "text/plain": [
       "Epoch 3 Training:   0%|          | 0/7 [00:00<?, ?it/s]"
      ]
     },
     "metadata": {},
     "output_type": "display_data"
    },
    {
     "name": "stdout",
     "output_type": "stream",
     "text": [
      "Epoch 3 finished. Average Training Loss: 1.0443, Average Training Accuracy: 0.5000\n",
      "[0.8760764598846436, 0.6853724122047424, 0.6057952642440796, 1.6487098932266235, 1.4353241920471191, 1.2514710426330566, 0.8070093393325806]\n"
     ]
    },
    {
     "data": {
      "application/vnd.jupyter.widget-view+json": {
       "model_id": "b9030687426a4c7aad49c0b657680c08",
       "version_major": 2,
       "version_minor": 0
      },
      "text/plain": [
       "Epoch 4 Training:   0%|          | 0/7 [00:00<?, ?it/s]"
      ]
     },
     "metadata": {},
     "output_type": "display_data"
    },
    {
     "name": "stdout",
     "output_type": "stream",
     "text": [
      "Epoch 4 finished. Average Training Loss: 0.8448, Average Training Accuracy: 0.5714\n",
      "[0.6600809097290039, 1.0450193881988525, 1.0090869665145874, 0.7488034963607788, 1.0515246391296387, 1.2945029735565186, 0.1045818030834198]\n"
     ]
    },
    {
     "data": {
      "application/vnd.jupyter.widget-view+json": {
       "model_id": "9ef6ddd1b1bd4c4fbd532322cc113ad4",
       "version_major": 2,
       "version_minor": 0
      },
      "text/plain": [
       "Epoch 5 Training:   0%|          | 0/7 [00:00<?, ?it/s]"
      ]
     },
     "metadata": {},
     "output_type": "display_data"
    },
    {
     "name": "stdout",
     "output_type": "stream",
     "text": [
      "Epoch 5 finished. Average Training Loss: 0.9214, Average Training Accuracy: 0.5357\n",
      "[0.6432021856307983, 1.413323163986206, 0.6588913202285767, 1.0489554405212402, 1.247307300567627, 0.6122724413871765, 0.8257410526275635]\n",
      "Training metrics plot saved to ./gpt2_reward_model_script_output/plots/training_metrics.png\n",
      "\n",
      "Starting evaluation...\n"
     ]
    },
    {
     "data": {
      "application/vnd.jupyter.widget-view+json": {
       "model_id": "af2255f29bf042de9685724bf05914ed",
       "version_major": 2,
       "version_minor": 0
      },
      "text/plain": [
       "Evaluating:   0%|          | 0/50 [00:00<?, ?it/s]"
      ]
     },
     "metadata": {},
     "output_type": "display_data"
    },
    {
     "name": "stdout",
     "output_type": "stream",
     "text": [
      "\n",
      "Evaluation Results:\n",
      "  Average Loss: 0.9130\n",
      "  Average Accuracy: 0.4725\n",
      "\n",
      "Saving model to ./gpt2_reward_model_script_output...\n",
      "Model and tokenizer saved to ./gpt2_reward_model_script_output\n",
      "\n",
      "--- Script Finished ---\n"
     ]
    },
    {
     "data": {
      "image/png": "[encoded data removed]",
      "text/plain": [
       "<Figure size 1200x500 with 2 Axes>"
      ]
     },
     "metadata": {},
     "output_type": "display_data"
    }
   ],
   "source": [
    "def main():\n",
    "    \"\"\"Main function to run the training and evaluation pipeline.\"\"\"\n",
    "    set_seed(SEED)\n",
    "\n",
    "    print(f\"Using device: {DEVICE}\")\n",
    "\n",
    "    # --- 1. Load Dataset (Anthropic HH-RLHF) ---\n",
    "    # Ensure you have `datasets` library installed: pip install datasets\n",
    "    # The 'anthropic/hh-rlhf' dataset contains several configurations.\n",
    "    # We'll load the 'harmless-base' part for this example.\n",
    "    print(\"Loading Anthropic HH-RLHF dataset...\")\n",
    "    try:\n",
    "        full_dataset = load_dataset(\"Anthropic/hh-rlhf\")\n",
    "        train_data_full = list(full_dataset['train'])\n",
    "        test_data_full = list(full_dataset['test'])\n",
    "    except Exception as e:\n",
    "        print(f\"Could not load dataset directly: {e}\")\n",
    "        print(\"Please ensure you have internet access and the dataset name is correct.\")\n",
    "        print(\"As a fallback, creating dummy data for demonstration.\")\n",
    "        train_data_full = [{'chosen': f'Human: Q{i}? Assistant: Chosen answer {i}.', 'rejected': f'Human: Q{i}? Assistant: Rejected answer {i}.'} for i in range(TRAIN_SUBSET_SIZE*2)]\n",
    "        test_data_full = [{'chosen': f'Human: TestQ{i}? Assistant: Chosen test answer {i}.', 'rejected': f'Human: TestQ{i}? Assistant: Rejected test answer {i}.'} for i in range(EVAL_SUBSET_SIZE*2)]\n",
    "\n",
    "    random.shuffle(train_data_full)\n",
    "    random.shuffle(test_data_full)\n",
    "\n",
    "    train_subset = train_data_full[:TRAIN_SUBSET_SIZE]\n",
    "    eval_subset = test_data_full[:EVAL_SUBSET_SIZE]\n",
    "\n",
    "    print(f\"Using {len(train_subset)} samples for training and {len(eval_subset)} for evaluation.\")\n",
    "    if train_subset:\n",
    "        print(\"\\nExample training data point:\")\n",
    "        print(f\"  Chosen: {train_subset[0]['chosen'][:100]}...\")\n",
    "        print(f\"  Rejected: {train_subset[0]['rejected'][:100]}...\")\n",
    "\n",
    "    # --- 2. Preprocessing & Tokenization ---\n",
    "    print(f\"\\nLoading tokenizer: {MODEL_NAME}\")\n",
    "    tokenizer = GPT2Tokenizer.from_pretrained(MODEL_NAME)\n",
    "    if tokenizer.pad_token is None:\n",
    "        tokenizer.pad_token = tokenizer.eos_token\n",
    "        print(\"Set tokenizer.pad_token to tokenizer.eos_token\")\n",
    "\n",
    "    train_preference_dataset = PreferenceDataset(train_subset, tokenizer, MAX_LENGTH)\n",
    "    eval_preference_dataset = PreferenceDataset(eval_subset, tokenizer, MAX_LENGTH)\n",
    "\n",
    "    train_dataloader = DataLoader(train_preference_dataset, batch_size=BATCH_SIZE, shuffle=True)\n",
    "    eval_dataloader = DataLoader(eval_preference_dataset, batch_size=BATCH_SIZE)\n",
    "\n",
    "    # --- 3. Model Definition ---\n",
    "    print(f\"\\nLoading model: {MODEL_NAME} for sequence classification\")\n",
    "    model = GPT2ForSequenceClassification.from_pretrained(MODEL_NAME, num_labels=1)\n",
    "    model.config.pad_token_id = tokenizer.pad_token_id # Crucial for GPT2\n",
    "    model.to(DEVICE)\n",
    "\n",
    "    # --- 4. Training ---\n",
    "    print(\"\\nStarting training...\")\n",
    "    optimizer = AdamW(model.parameters(), lr=LEARNING_RATE)\n",
    "    num_training_steps = NUM_EPOCHS * len(train_dataloader)\n",
    "    lr_scheduler = get_scheduler(\n",
    "        name=\"linear\",\n",
    "        optimizer=optimizer,\n",
    "        num_warmup_steps=0,\n",
    "        num_training_steps=num_training_steps\n",
    "    )\n",
    "    train_losses = []\n",
    "    train_accuracies = []\n",
    "    for epoch in range(NUM_EPOCHS):\n",
    "        epoch_loss, epoch_acc, cum_loss = train_epoch(model, train_dataloader, optimizer, lr_scheduler, DEVICE, epoch + 1)\n",
    "        train_losses.append(epoch_loss)\n",
    "        train_accuracies.append(epoch_acc)\n",
    "        print(cum_loss)\n",
    "        # --- 4.1 Plot Cumulative Loss ---\n",
    "        plot_cum_loss(cum_loss, OUTPUT_DIR)\n",
    "\n",
    "    # --- 5. Visualize Training Progress ---\n",
    "    plot_metrics(train_losses, train_accuracies, PLOTS_DIR)\n",
    "    # --- 5. Evaluation ---\n",
    "\n",
    "    # --- 5. Evaluation ---\n",
    "    print(\"\\nStarting evaluation...\")\n",
    "    evaluate_model(model, eval_dataloader, DEVICE)\n",
    "\n",
    "    # --- 6. Saving the Model (Optional) ---\n",
    "    if not os.path.exists(OUTPUT_DIR):\n",
    "        os.makedirs(OUTPUT_DIR)\n",
    "    \n",
    "    print(f\"\\nSaving model to {OUTPUT_DIR}...\")\n",
    "    model.save_pretrained(OUTPUT_DIR)\n",
    "    tokenizer.save_pretrained(OUTPUT_DIR)\n",
    "    print(f\"Model and tokenizer saved to {OUTPUT_DIR}\")\n",
    "    print(\"\\n--- Script Finished ---\")\n",
    "\n",
    "if __name__ == \"__main__\":\n",
    "    # Before running, ensure you have the necessary libraries:\n",
    "    # pip install torch transformers datasets scikit-learn tqdm accelerate\n",
    "    main()"
   ]
  }
 ],
 "metadata": {
  "kernelspec": {
   "display_name": "Python 3 (ipykernel)",
   "language": "python",
   "name": "python3"
  },
  "language_info": {
   "codemirror_mode": {
    "name": "ipython",
    "version": 3
   },
   "file_extension": ".py",
   "mimetype": "text/x-python",
   "name": "python",
   "nbconvert_exporter": "python",
   "pygments_lexer": "ipython3",
   "version": "3.11.11"
  }
 },
 "nbformat": 4,
 "nbformat_minor": 5
}
